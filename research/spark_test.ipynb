{
 "cells": [
  {
   "cell_type": "code",
   "execution_count": 1,
   "id": "35f1412a",
   "metadata": {},
   "outputs": [],
   "source": [
    "from pyspark.sql import SparkSession\n",
    "from pyspark.sql import functions as F\n",
    "from pyspark.sql.functions import col, regexp_extract, regexp_replace, explode, split\n",
    "from pyspark.sql.window import Window"
   ]
  },
  {
   "cell_type": "code",
   "execution_count": 2,
   "id": "9eb59eee",
   "metadata": {},
   "outputs": [],
   "source": [
    "spark = SparkSession.builder.appName(\"testing\").getOrCreate()"
   ]
  },
  {
   "cell_type": "code",
   "execution_count": 3,
   "id": "43eeee57",
   "metadata": {},
   "outputs": [],
   "source": [
    "myrange = spark.range(1000).toDF(\"number\")"
   ]
  },
  {
   "cell_type": "code",
   "execution_count": 4,
   "id": "0b18c66e",
   "metadata": {},
   "outputs": [
    {
     "name": "stdout",
     "output_type": "stream",
     "text": [
      "+------+\n",
      "|number|\n",
      "+------+\n",
      "|     0|\n",
      "|     1|\n",
      "|     2|\n",
      "|     3|\n",
      "|     4|\n",
      "|     5|\n",
      "|     6|\n",
      "|     7|\n",
      "|     8|\n",
      "|     9|\n",
      "|    10|\n",
      "|    11|\n",
      "|    12|\n",
      "|    13|\n",
      "|    14|\n",
      "|    15|\n",
      "|    16|\n",
      "|    17|\n",
      "|    18|\n",
      "|    19|\n",
      "+------+\n",
      "only showing top 20 rows\n",
      "\n"
     ]
    }
   ],
   "source": [
    "myrange.show()"
   ]
  },
  {
   "cell_type": "code",
   "execution_count": 5,
   "id": "438d18c2",
   "metadata": {},
   "outputs": [
    {
     "data": {
      "text/html": [
       "\n",
       "            <div>\n",
       "                <p><b>SparkSession - in-memory</b></p>\n",
       "                \n",
       "        <div>\n",
       "            <p><b>SparkContext</b></p>\n",
       "\n",
       "            <p><a href=\"http://Alpha:4040\">Spark UI</a></p>\n",
       "\n",
       "            <dl>\n",
       "              <dt>Version</dt>\n",
       "                <dd><code>v3.5.0</code></dd>\n",
       "              <dt>Master</dt>\n",
       "                <dd><code>local[*]</code></dd>\n",
       "              <dt>AppName</dt>\n",
       "                <dd><code>testing</code></dd>\n",
       "            </dl>\n",
       "        </div>\n",
       "        \n",
       "            </div>\n",
       "        "
      ],
      "text/plain": [
       "<pyspark.sql.session.SparkSession at 0x1d17292e0d0>"
      ]
     },
     "execution_count": 5,
     "metadata": {},
     "output_type": "execute_result"
    }
   ],
   "source": [
    "spark"
   ]
  },
  {
   "cell_type": "code",
   "execution_count": 6,
   "id": "976a064f",
   "metadata": {},
   "outputs": [
    {
     "data": {
      "text/plain": [
       "1000"
      ]
     },
     "execution_count": 6,
     "metadata": {},
     "output_type": "execute_result"
    }
   ],
   "source": [
    "myrange.count()"
   ]
  },
  {
   "cell_type": "code",
   "execution_count": 7,
   "id": "045d59ce",
   "metadata": {},
   "outputs": [],
   "source": [
    "file_path = \"Data/raw/movies.dat\"\n",
    "schema = \"movie_id INT, title STRING, genres STRING\"\n",
    "\n",
    "# Read the data from the movies.dat file\n",
    "movies_data = spark.read.csv(file_path, sep=\"::\", schema=schema)"
   ]
  },
  {
   "cell_type": "code",
   "execution_count": 8,
   "id": "fc0272c2",
   "metadata": {
    "scrolled": true
   },
   "outputs": [
    {
     "name": "stdout",
     "output_type": "stream",
     "text": [
      "+--------+--------------------+--------------------+\n",
      "|movie_id|               title|              genres|\n",
      "+--------+--------------------+--------------------+\n",
      "|       1|    Toy Story (1995)|Animation|Childre...|\n",
      "|       2|      Jumanji (1995)|Adventure|Childre...|\n",
      "|       3|Grumpier Old Men ...|      Comedy|Romance|\n",
      "|       4|Waiting to Exhale...|        Comedy|Drama|\n",
      "|       5|Father of the Bri...|              Comedy|\n",
      "|       6|         Heat (1995)|Action|Crime|Thri...|\n",
      "|       7|      Sabrina (1995)|      Comedy|Romance|\n",
      "|       8| Tom and Huck (1995)|Adventure|Children's|\n",
      "|       9| Sudden Death (1995)|              Action|\n",
      "|      10|    GoldenEye (1995)|Action|Adventure|...|\n",
      "|      11|American Presiden...|Comedy|Drama|Romance|\n",
      "|      12|Dracula: Dead and...|       Comedy|Horror|\n",
      "|      13|        Balto (1995)|Animation|Children's|\n",
      "|      14|        Nixon (1995)|               Drama|\n",
      "|      15|Cutthroat Island ...|Action|Adventure|...|\n",
      "|      16|       Casino (1995)|      Drama|Thriller|\n",
      "|      17|Sense and Sensibi...|       Drama|Romance|\n",
      "|      18|   Four Rooms (1995)|            Thriller|\n",
      "|      19|Ace Ventura: When...|              Comedy|\n",
      "|      20|  Money Train (1995)|              Action|\n",
      "+--------+--------------------+--------------------+\n",
      "only showing top 20 rows\n",
      "\n"
     ]
    }
   ],
   "source": [
    "movies_data.show()"
   ]
  },
  {
   "cell_type": "code",
   "execution_count": 9,
   "id": "dbbdaf8c",
   "metadata": {},
   "outputs": [
    {
     "data": {
      "text/plain": [
       "3883"
      ]
     },
     "execution_count": 9,
     "metadata": {},
     "output_type": "execute_result"
    }
   ],
   "source": [
    "movies_data.count()"
   ]
  },
  {
   "cell_type": "code",
   "execution_count": 10,
   "id": "274fabdf",
   "metadata": {},
   "outputs": [
    {
     "data": {
      "text/plain": [
       "DataFrame[movie_id: int, title: string, genres: string]"
      ]
     },
     "execution_count": 10,
     "metadata": {},
     "output_type": "execute_result"
    }
   ],
   "source": [
    "movies_data"
   ]
  },
  {
   "cell_type": "code",
   "execution_count": 11,
   "id": "f7ba9080",
   "metadata": {},
   "outputs": [],
   "source": [
    "# Extract the year from the title and create a new column 'year'\n",
    "movies_data = movies_data.withColumn(\"release_year\", regexp_extract(\"title\", \"\\((\\d{4})\\)\", 1))"
   ]
  },
  {
   "cell_type": "code",
   "execution_count": 12,
   "id": "53ba4f52",
   "metadata": {},
   "outputs": [
    {
     "name": "stdout",
     "output_type": "stream",
     "text": [
      "+--------+--------------------+--------------------+------------+\n",
      "|movie_id|               title|              genres|release_year|\n",
      "+--------+--------------------+--------------------+------------+\n",
      "|       1|    Toy Story (1995)|Animation|Childre...|        1995|\n",
      "|       2|      Jumanji (1995)|Adventure|Childre...|        1995|\n",
      "|       3|Grumpier Old Men ...|      Comedy|Romance|        1995|\n",
      "|       4|Waiting to Exhale...|        Comedy|Drama|        1995|\n",
      "|       5|Father of the Bri...|              Comedy|        1995|\n",
      "|       6|         Heat (1995)|Action|Crime|Thri...|        1995|\n",
      "|       7|      Sabrina (1995)|      Comedy|Romance|        1995|\n",
      "|       8| Tom and Huck (1995)|Adventure|Children's|        1995|\n",
      "|       9| Sudden Death (1995)|              Action|        1995|\n",
      "|      10|    GoldenEye (1995)|Action|Adventure|...|        1995|\n",
      "|      11|American Presiden...|Comedy|Drama|Romance|        1995|\n",
      "|      12|Dracula: Dead and...|       Comedy|Horror|        1995|\n",
      "|      13|        Balto (1995)|Animation|Children's|        1995|\n",
      "|      14|        Nixon (1995)|               Drama|        1995|\n",
      "|      15|Cutthroat Island ...|Action|Adventure|...|        1995|\n",
      "|      16|       Casino (1995)|      Drama|Thriller|        1995|\n",
      "|      17|Sense and Sensibi...|       Drama|Romance|        1995|\n",
      "|      18|   Four Rooms (1995)|            Thriller|        1995|\n",
      "|      19|Ace Ventura: When...|              Comedy|        1995|\n",
      "|      20|  Money Train (1995)|              Action|        1995|\n",
      "+--------+--------------------+--------------------+------------+\n",
      "only showing top 20 rows\n",
      "\n"
     ]
    }
   ],
   "source": [
    "movies_data.show()"
   ]
  },
  {
   "cell_type": "code",
   "execution_count": 13,
   "id": "b42dde69",
   "metadata": {},
   "outputs": [],
   "source": [
    "# Remove the (year) from the title\n",
    "movies_data = movies_data.withColumn(\"title\", regexp_replace(\"title\", \"\\s*\\(\\d{4}\\)\\s*\", \"\"))"
   ]
  },
  {
   "cell_type": "code",
   "execution_count": 14,
   "id": "f812d4ac",
   "metadata": {},
   "outputs": [
    {
     "name": "stdout",
     "output_type": "stream",
     "text": [
      "+--------+--------------------+--------------------+------------+\n",
      "|movie_id|               title|              genres|release_year|\n",
      "+--------+--------------------+--------------------+------------+\n",
      "|       1|           Toy Story|Animation|Childre...|        1995|\n",
      "|       2|             Jumanji|Adventure|Childre...|        1995|\n",
      "|       3|    Grumpier Old Men|      Comedy|Romance|        1995|\n",
      "|       4|   Waiting to Exhale|        Comedy|Drama|        1995|\n",
      "|       5|Father of the Bri...|              Comedy|        1995|\n",
      "|       6|                Heat|Action|Crime|Thri...|        1995|\n",
      "|       7|             Sabrina|      Comedy|Romance|        1995|\n",
      "|       8|        Tom and Huck|Adventure|Children's|        1995|\n",
      "|       9|        Sudden Death|              Action|        1995|\n",
      "|      10|           GoldenEye|Action|Adventure|...|        1995|\n",
      "|      11|American Presiden...|Comedy|Drama|Romance|        1995|\n",
      "|      12|Dracula: Dead and...|       Comedy|Horror|        1995|\n",
      "|      13|               Balto|Animation|Children's|        1995|\n",
      "|      14|               Nixon|               Drama|        1995|\n",
      "|      15|    Cutthroat Island|Action|Adventure|...|        1995|\n",
      "|      16|              Casino|      Drama|Thriller|        1995|\n",
      "|      17|Sense and Sensibi...|       Drama|Romance|        1995|\n",
      "|      18|          Four Rooms|            Thriller|        1995|\n",
      "|      19|Ace Ventura: When...|              Comedy|        1995|\n",
      "|      20|         Money Train|              Action|        1995|\n",
      "+--------+--------------------+--------------------+------------+\n",
      "only showing top 20 rows\n",
      "\n"
     ]
    }
   ],
   "source": [
    "movies_data.show()"
   ]
  },
  {
   "cell_type": "code",
   "execution_count": 15,
   "id": "ddcf1d06",
   "metadata": {},
   "outputs": [],
   "source": [
    "# Extract and explode genres into separate rows\n",
    "movies_data = movies_data.withColumn(\"genres\", explode(split(\"genres\", \"\\\\|\")))"
   ]
  },
  {
   "cell_type": "code",
   "execution_count": 16,
   "id": "7ba99dd7",
   "metadata": {},
   "outputs": [
    {
     "name": "stdout",
     "output_type": "stream",
     "text": [
      "+--------+--------------------+----------+------------+\n",
      "|movie_id|               title|    genres|release_year|\n",
      "+--------+--------------------+----------+------------+\n",
      "|       1|           Toy Story| Animation|        1995|\n",
      "|       1|           Toy Story|Children's|        1995|\n",
      "|       1|           Toy Story|    Comedy|        1995|\n",
      "|       2|             Jumanji| Adventure|        1995|\n",
      "|       2|             Jumanji|Children's|        1995|\n",
      "|       2|             Jumanji|   Fantasy|        1995|\n",
      "|       3|    Grumpier Old Men|    Comedy|        1995|\n",
      "|       3|    Grumpier Old Men|   Romance|        1995|\n",
      "|       4|   Waiting to Exhale|    Comedy|        1995|\n",
      "|       4|   Waiting to Exhale|     Drama|        1995|\n",
      "|       5|Father of the Bri...|    Comedy|        1995|\n",
      "|       6|                Heat|    Action|        1995|\n",
      "|       6|                Heat|     Crime|        1995|\n",
      "|       6|                Heat|  Thriller|        1995|\n",
      "|       7|             Sabrina|    Comedy|        1995|\n",
      "|       7|             Sabrina|   Romance|        1995|\n",
      "|       8|        Tom and Huck| Adventure|        1995|\n",
      "|       8|        Tom and Huck|Children's|        1995|\n",
      "|       9|        Sudden Death|    Action|        1995|\n",
      "|      10|           GoldenEye|    Action|        1995|\n",
      "+--------+--------------------+----------+------------+\n",
      "only showing top 20 rows\n",
      "\n"
     ]
    }
   ],
   "source": [
    "movies_data.show()"
   ]
  },
  {
   "cell_type": "code",
   "execution_count": 17,
   "id": "180174dd",
   "metadata": {},
   "outputs": [
    {
     "data": {
      "text/plain": [
       "6408"
      ]
     },
     "execution_count": 17,
     "metadata": {},
     "output_type": "execute_result"
    }
   ],
   "source": [
    "movies_data.count()"
   ]
  },
  {
   "cell_type": "code",
   "execution_count": 97,
   "id": "5c811e21",
   "metadata": {},
   "outputs": [],
   "source": [
    "spark.stop()"
   ]
  },
  {
   "cell_type": "code",
   "execution_count": null,
   "id": "11e9e64a",
   "metadata": {},
   "outputs": [],
   "source": []
  }
 ],
 "metadata": {
  "kernelspec": {
   "display_name": "Python 3 (ipykernel)",
   "language": "python",
   "name": "python3"
  },
  "language_info": {
   "codemirror_mode": {
    "name": "ipython",
    "version": 3
   },
   "file_extension": ".py",
   "mimetype": "text/x-python",
   "name": "python",
   "nbconvert_exporter": "python",
   "pygments_lexer": "ipython3",
   "version": "3.9.18"
  }
 },
 "nbformat": 4,
 "nbformat_minor": 5
}
