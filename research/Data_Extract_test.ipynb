{
 "cells": [
  {
   "cell_type": "code",
   "execution_count": 1,
   "metadata": {},
   "outputs": [],
   "source": [
    "import os\n",
    "import requests\n",
    "import zipfile\n",
    "import shutil"
   ]
  },
  {
   "cell_type": "code",
   "execution_count": 2,
   "metadata": {},
   "outputs": [
    {
     "name": "stdout",
     "output_type": "stream",
     "text": [
      "d:\\PROJECTS\\Movie_Analytics\\research\n"
     ]
    }
   ],
   "source": [
    "local_directory = os.getcwd()\n",
    "print(local_directory)"
   ]
  },
  {
   "cell_type": "code",
   "execution_count": 3,
   "metadata": {},
   "outputs": [
    {
     "name": "stdout",
     "output_type": "stream",
     "text": [
      "d:\\PROJECTS\\Movie_Analytics\\research\\Data\\raw\n"
     ]
    }
   ],
   "source": [
    "local_directory = os.getcwd()\n",
    "new_directory = os.path.join(local_directory, \"Data\", \"raw\")\n",
    "\n",
    "print(new_directory)"
   ]
  },
  {
   "cell_type": "code",
   "execution_count": 4,
   "metadata": {},
   "outputs": [],
   "source": [
    "def list_files_and_folders(directory):\n",
    "    for root, dirs, files in os.walk(directory):\n",
    "        for file in files:\n",
    "            print(os.path.join(root, file))\n",
    "        for dir in dirs:\n",
    "            print(os.path.join(root, dir))\n",
    "\n",
    "local_directory = os.getcwd()\n",
    "\n",
    "directory_path = os.path.join(local_directory, \"Data\")\n",
    "list_files_and_folders(directory_path)"
   ]
  },
  {
   "cell_type": "code",
   "execution_count": 5,
   "metadata": {},
   "outputs": [],
   "source": [
    "def create_directories(*directories):\n",
    "    for directory in directories:\n",
    "        os.makedirs(directory, exist_ok=True)\n",
    "\n",
    "def download_dataset(url, local_zip_file):\n",
    "    os.makedirs(os.path.dirname(local_zip_file), exist_ok=True)\n",
    "\n",
    "    if os.path.exists(local_zip_file):\n",
    "        print(f\"The dataset file {local_zip_file} already exists. Skipping download.\")\n",
    "    else:\n",
    "        response = requests.get(url)\n",
    "        with open(local_zip_file, 'wb') as f:\n",
    "            f.write(response.content)\n",
    "        print(f\"The dataset file has been downloaded and saved to {local_zip_file}\")"
   ]
  },
  {
   "cell_type": "code",
   "execution_count": 6,
   "metadata": {},
   "outputs": [],
   "source": [
    "def unzip_dataset(zip_file, extract_path):\n",
    "    with zipfile.ZipFile(zip_file, 'r') as zip_ref:\n",
    "        zip_ref.extractall(extract_path)\n",
    "\n",
    "def move_files(source_path, target_path):\n",
    "    for item in os.listdir(source_path):\n",
    "        source_item_path = os.path.join(source_path, item)\n",
    "        target_item_path = os.path.join(target_path, item)\n",
    "        shutil.move(source_item_path, target_item_path)"
   ]
  },
  {
   "cell_type": "code",
   "execution_count": 7,
   "metadata": {},
   "outputs": [
    {
     "name": "stdout",
     "output_type": "stream",
     "text": [
      "The dataset file D:/Demo_projects/struct_demo\\Data\\ml-1m.zip already exists. Skipping download.\n",
      "List of folders and files in the raw directory:\n",
      "movies.dat\n",
      "ratings.dat\n",
      "README\n",
      "users.dat\n"
     ]
    }
   ],
   "source": [
    "\n",
    "def main():\n",
    "    local_directory = \"D:/Demo_projects/struct_demo\"\n",
    "    data_directory = os.path.join(local_directory, \"Data\")\n",
    "    raw_directory = os.path.join(data_directory, \"raw\")\n",
    "    dataset_url = \"https://files.grouplens.org/datasets/movielens/ml-1m.zip\"\n",
    "    local_zip_file = os.path.join(data_directory, \"ml-1m.zip\")\n",
    "\n",
    "    create_directories(data_directory, raw_directory)\n",
    "    download_dataset(dataset_url, local_zip_file)\n",
    "\n",
    "    with zipfile.ZipFile(local_zip_file, 'r') as zip_ref:\n",
    "        zip_ref.extractall(data_directory)\n",
    "    unzipped_folder = os.path.join(data_directory, os.listdir(data_directory)[0])\n",
    "    move_files(unzipped_folder, raw_directory)\n",
    "\n",
    "    os.rmdir(unzipped_folder)\n",
    "\n",
    "    contents = os.listdir(raw_directory)\n",
    "    print(\"List of folders and files in the raw directory:\")\n",
    "    for item in contents:\n",
    "        print(item)\n",
    "\n",
    "if __name__ == \"__main__\":\n",
    "    main()\n"
   ]
  },
  {
   "cell_type": "code",
   "execution_count": null,
   "metadata": {},
   "outputs": [],
   "source": []
  }
 ],
 "metadata": {
  "kernelspec": {
   "display_name": "Python 3",
   "language": "python",
   "name": "python3"
  },
  "language_info": {
   "codemirror_mode": {
    "name": "ipython",
    "version": 3
   },
   "file_extension": ".py",
   "mimetype": "text/x-python",
   "name": "python",
   "nbconvert_exporter": "python",
   "pygments_lexer": "ipython3",
   "version": "3.9.18"
  }
 },
 "nbformat": 4,
 "nbformat_minor": 2
}
