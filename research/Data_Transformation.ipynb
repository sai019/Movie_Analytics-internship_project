{
 "cells": [
  {
   "cell_type": "code",
   "execution_count": 2,
   "id": "35f1412a",
   "metadata": {},
   "outputs": [],
   "source": [
    "from pyspark.sql import SparkSession\n",
    "from pyspark.sql import functions as F\n",
    "from pyspark.sql.functions import col, regexp_extract, regexp_replace, explode, split\n",
    "from pyspark.sql.window import Window"
   ]
  },
  {
   "cell_type": "code",
   "execution_count": 3,
   "id": "9eb59eee",
   "metadata": {},
   "outputs": [],
   "source": [
    "spark = SparkSession.builder.appName(\"testing\").getOrCreate()"
   ]
  },
  {
   "cell_type": "code",
   "execution_count": 4,
   "id": "438d18c2",
   "metadata": {},
   "outputs": [
    {
     "data": {
      "text/html": [
       "\n",
       "            <div>\n",
       "                <p><b>SparkSession - in-memory</b></p>\n",
       "                \n",
       "        <div>\n",
       "            <p><b>SparkContext</b></p>\n",
       "\n",
       "            <p><a href=\"http://Alpha:4040\">Spark UI</a></p>\n",
       "\n",
       "            <dl>\n",
       "              <dt>Version</dt>\n",
       "                <dd><code>v3.5.0</code></dd>\n",
       "              <dt>Master</dt>\n",
       "                <dd><code>local[*]</code></dd>\n",
       "              <dt>AppName</dt>\n",
       "                <dd><code>testing</code></dd>\n",
       "            </dl>\n",
       "        </div>\n",
       "        \n",
       "            </div>\n",
       "        "
      ],
      "text/plain": [
       "<pyspark.sql.session.SparkSession at 0x28e3b40a520>"
      ]
     },
     "execution_count": 4,
     "metadata": {},
     "output_type": "execute_result"
    }
   ],
   "source": [
    "spark"
   ]
  },
  {
   "cell_type": "code",
   "execution_count": 5,
   "id": "045d59ce",
   "metadata": {},
   "outputs": [],
   "source": [
    "# Movies data path and schema\n",
    "movies_file_path = \"d:/PROJECTS/Movie_Analytics/Data/raw/movies.dat\"\n",
    "movies_schema = \"movie_id INT, title STRING, genres STRING\"\n",
    "\n",
    "# Users data path and schema\n",
    "users_file_path = \"d:/PROJECTS/Movie_Analytics/Data/raw/users.dat\"\n",
    "users_schema = \"UserID INT, Gender STRING, Age INT, Occupation INT, ZipCode INT\"\n",
    "\n",
    "# Ratings data path and schema\n",
    "ratings_schema = \"UserID INT, MovieID INT, Rating INT, Timestamp LONG\"\n",
    "\n",
    "\n",
    "# Reading the data from the movies.dat file\n",
    "movies_data = spark.read.csv(movies_file_path, sep=\"::\", schema=movies_schema)\n",
    "\n",
    "# Reading the data from the users.dat file\n",
    "users_data = spark.read.csv(users_file_path, sep=\"::\",schema=users_schema)\n",
    "\n",
    "# Reading the data from the ratings.dat files\n",
    "ratings_data = spark.read.csv(\"d:/PROJECTS/Movie_Analytics/Data/raw/ratings.dat\",sep = \"::\",schema=ratings_schema)"
   ]
  },
  {
   "cell_type": "code",
   "execution_count": 6,
   "id": "fc0272c2",
   "metadata": {
    "scrolled": true
   },
   "outputs": [
    {
     "name": "stdout",
     "output_type": "stream",
     "text": [
      "+--------+--------------------+--------------------+\n",
      "|movie_id|               title|              genres|\n",
      "+--------+--------------------+--------------------+\n",
      "|       1|    Toy Story (1995)|Animation|Childre...|\n",
      "|       2|      Jumanji (1995)|Adventure|Childre...|\n",
      "|       3|Grumpier Old Men ...|      Comedy|Romance|\n",
      "|       4|Waiting to Exhale...|        Comedy|Drama|\n",
      "|       5|Father of the Bri...|              Comedy|\n",
      "|       6|         Heat (1995)|Action|Crime|Thri...|\n",
      "|       7|      Sabrina (1995)|      Comedy|Romance|\n",
      "|       8| Tom and Huck (1995)|Adventure|Children's|\n",
      "|       9| Sudden Death (1995)|              Action|\n",
      "|      10|    GoldenEye (1995)|Action|Adventure|...|\n",
      "|      11|American Presiden...|Comedy|Drama|Romance|\n",
      "|      12|Dracula: Dead and...|       Comedy|Horror|\n",
      "|      13|        Balto (1995)|Animation|Children's|\n",
      "|      14|        Nixon (1995)|               Drama|\n",
      "|      15|Cutthroat Island ...|Action|Adventure|...|\n",
      "|      16|       Casino (1995)|      Drama|Thriller|\n",
      "|      17|Sense and Sensibi...|       Drama|Romance|\n",
      "|      18|   Four Rooms (1995)|            Thriller|\n",
      "|      19|Ace Ventura: When...|              Comedy|\n",
      "|      20|  Money Train (1995)|              Action|\n",
      "+--------+--------------------+--------------------+\n",
      "only showing top 20 rows\n",
      "\n"
     ]
    }
   ],
   "source": [
    "movies_data.show()"
   ]
  },
  {
   "cell_type": "code",
   "execution_count": 7,
   "id": "dbbdaf8c",
   "metadata": {},
   "outputs": [
    {
     "data": {
      "text/plain": [
       "3883"
      ]
     },
     "execution_count": 7,
     "metadata": {},
     "output_type": "execute_result"
    }
   ],
   "source": [
    "movies_data.count()"
   ]
  },
  {
   "cell_type": "code",
   "execution_count": 8,
   "id": "274fabdf",
   "metadata": {},
   "outputs": [
    {
     "data": {
      "text/plain": [
       "DataFrame[movie_id: int, title: string, genres: string]"
      ]
     },
     "execution_count": 8,
     "metadata": {},
     "output_type": "execute_result"
    }
   ],
   "source": [
    "movies_data"
   ]
  },
  {
   "cell_type": "code",
   "execution_count": 9,
   "id": "cc30983f",
   "metadata": {},
   "outputs": [
    {
     "name": "stdout",
     "output_type": "stream",
     "text": [
      "+--------+--------------------+--------------------+\n",
      "|movie_id|               title|              genres|\n",
      "+--------+--------------------+--------------------+\n",
      "|       1|    Toy Story (1995)|Animation|Childre...|\n",
      "|       2|      Jumanji (1995)|Adventure|Childre...|\n",
      "|       3|Grumpier Old Men ...|      Comedy|Romance|\n",
      "|       4|Waiting to Exhale...|        Comedy|Drama|\n",
      "|       5|Father of the Bri...|              Comedy|\n",
      "|       6|         Heat (1995)|Action|Crime|Thri...|\n",
      "|       7|      Sabrina (1995)|      Comedy|Romance|\n",
      "|       8| Tom and Huck (1995)|Adventure|Children's|\n",
      "|       9| Sudden Death (1995)|              Action|\n",
      "|      10|    GoldenEye (1995)|Action|Adventure|...|\n",
      "|      11|American Presiden...|Comedy|Drama|Romance|\n",
      "|      12|Dracula: Dead and...|       Comedy|Horror|\n",
      "|      13|        Balto (1995)|Animation|Children's|\n",
      "|      14|        Nixon (1995)|               Drama|\n",
      "|      15|Cutthroat Island ...|Action|Adventure|...|\n",
      "|      16|       Casino (1995)|      Drama|Thriller|\n",
      "|      17|Sense and Sensibi...|       Drama|Romance|\n",
      "|      18|   Four Rooms (1995)|            Thriller|\n",
      "|      19|Ace Ventura: When...|              Comedy|\n",
      "|      20|  Money Train (1995)|              Action|\n",
      "+--------+--------------------+--------------------+\n",
      "only showing top 20 rows\n",
      "\n"
     ]
    }
   ],
   "source": [
    "movies_data.show()"
   ]
  },
  {
   "cell_type": "code",
   "execution_count": 10,
   "id": "f7ba9080",
   "metadata": {},
   "outputs": [],
   "source": [
    "# Extract the year from the title and create a new column 'year'\n",
    "movies_data = movies_data.withColumn(\"release_year\", regexp_extract(\"title\", \"\\((\\d{4})\\)\", 1))"
   ]
  },
  {
   "cell_type": "code",
   "execution_count": 11,
   "id": "53ba4f52",
   "metadata": {},
   "outputs": [
    {
     "name": "stdout",
     "output_type": "stream",
     "text": [
      "+--------+--------------------+--------------------+------------+\n",
      "|movie_id|               title|              genres|release_year|\n",
      "+--------+--------------------+--------------------+------------+\n",
      "|       1|    Toy Story (1995)|Animation|Childre...|        1995|\n",
      "|       2|      Jumanji (1995)|Adventure|Childre...|        1995|\n",
      "|       3|Grumpier Old Men ...|      Comedy|Romance|        1995|\n",
      "|       4|Waiting to Exhale...|        Comedy|Drama|        1995|\n",
      "|       5|Father of the Bri...|              Comedy|        1995|\n",
      "|       6|         Heat (1995)|Action|Crime|Thri...|        1995|\n",
      "|       7|      Sabrina (1995)|      Comedy|Romance|        1995|\n",
      "|       8| Tom and Huck (1995)|Adventure|Children's|        1995|\n",
      "|       9| Sudden Death (1995)|              Action|        1995|\n",
      "|      10|    GoldenEye (1995)|Action|Adventure|...|        1995|\n",
      "|      11|American Presiden...|Comedy|Drama|Romance|        1995|\n",
      "|      12|Dracula: Dead and...|       Comedy|Horror|        1995|\n",
      "|      13|        Balto (1995)|Animation|Children's|        1995|\n",
      "|      14|        Nixon (1995)|               Drama|        1995|\n",
      "|      15|Cutthroat Island ...|Action|Adventure|...|        1995|\n",
      "|      16|       Casino (1995)|      Drama|Thriller|        1995|\n",
      "|      17|Sense and Sensibi...|       Drama|Romance|        1995|\n",
      "|      18|   Four Rooms (1995)|            Thriller|        1995|\n",
      "|      19|Ace Ventura: When...|              Comedy|        1995|\n",
      "|      20|  Money Train (1995)|              Action|        1995|\n",
      "+--------+--------------------+--------------------+------------+\n",
      "only showing top 20 rows\n",
      "\n"
     ]
    }
   ],
   "source": [
    "movies_data.show()"
   ]
  },
  {
   "cell_type": "code",
   "execution_count": 12,
   "id": "b42dde69",
   "metadata": {},
   "outputs": [],
   "source": [
    "# Remove the (year) from the title\n",
    "movies_data = movies_data.withColumn(\"title\", regexp_replace(\"title\", \"\\s*\\(\\d{4}\\)\\s*\", \"\"))"
   ]
  },
  {
   "cell_type": "code",
   "execution_count": 13,
   "id": "f812d4ac",
   "metadata": {},
   "outputs": [
    {
     "name": "stdout",
     "output_type": "stream",
     "text": [
      "+--------+--------------------+--------------------+------------+\n",
      "|movie_id|               title|              genres|release_year|\n",
      "+--------+--------------------+--------------------+------------+\n",
      "|       1|           Toy Story|Animation|Childre...|        1995|\n",
      "|       2|             Jumanji|Adventure|Childre...|        1995|\n",
      "|       3|    Grumpier Old Men|      Comedy|Romance|        1995|\n",
      "|       4|   Waiting to Exhale|        Comedy|Drama|        1995|\n",
      "|       5|Father of the Bri...|              Comedy|        1995|\n",
      "|       6|                Heat|Action|Crime|Thri...|        1995|\n",
      "|       7|             Sabrina|      Comedy|Romance|        1995|\n",
      "|       8|        Tom and Huck|Adventure|Children's|        1995|\n",
      "|       9|        Sudden Death|              Action|        1995|\n",
      "|      10|           GoldenEye|Action|Adventure|...|        1995|\n",
      "|      11|American Presiden...|Comedy|Drama|Romance|        1995|\n",
      "|      12|Dracula: Dead and...|       Comedy|Horror|        1995|\n",
      "|      13|               Balto|Animation|Children's|        1995|\n",
      "|      14|               Nixon|               Drama|        1995|\n",
      "|      15|    Cutthroat Island|Action|Adventure|...|        1995|\n",
      "|      16|              Casino|      Drama|Thriller|        1995|\n",
      "|      17|Sense and Sensibi...|       Drama|Romance|        1995|\n",
      "|      18|          Four Rooms|            Thriller|        1995|\n",
      "|      19|Ace Ventura: When...|              Comedy|        1995|\n",
      "|      20|         Money Train|              Action|        1995|\n",
      "+--------+--------------------+--------------------+------------+\n",
      "only showing top 20 rows\n",
      "\n"
     ]
    }
   ],
   "source": [
    "movies_data.show()"
   ]
  },
  {
   "cell_type": "code",
   "execution_count": 14,
   "id": "ddcf1d06",
   "metadata": {},
   "outputs": [],
   "source": [
    "# Extract and explode genres into separate rows\n",
    "movies_data = movies_data.withColumn(\"genres\", explode(split(\"genres\", \"\\\\|\")))"
   ]
  },
  {
   "cell_type": "code",
   "execution_count": 15,
   "id": "7ba99dd7",
   "metadata": {},
   "outputs": [
    {
     "name": "stdout",
     "output_type": "stream",
     "text": [
      "+--------+--------------------+----------+------------+\n",
      "|movie_id|               title|    genres|release_year|\n",
      "+--------+--------------------+----------+------------+\n",
      "|       1|           Toy Story| Animation|        1995|\n",
      "|       1|           Toy Story|Children's|        1995|\n",
      "|       1|           Toy Story|    Comedy|        1995|\n",
      "|       2|             Jumanji| Adventure|        1995|\n",
      "|       2|             Jumanji|Children's|        1995|\n",
      "|       2|             Jumanji|   Fantasy|        1995|\n",
      "|       3|    Grumpier Old Men|    Comedy|        1995|\n",
      "|       3|    Grumpier Old Men|   Romance|        1995|\n",
      "|       4|   Waiting to Exhale|    Comedy|        1995|\n",
      "|       4|   Waiting to Exhale|     Drama|        1995|\n",
      "|       5|Father of the Bri...|    Comedy|        1995|\n",
      "|       6|                Heat|    Action|        1995|\n",
      "|       6|                Heat|     Crime|        1995|\n",
      "|       6|                Heat|  Thriller|        1995|\n",
      "|       7|             Sabrina|    Comedy|        1995|\n",
      "|       7|             Sabrina|   Romance|        1995|\n",
      "|       8|        Tom and Huck| Adventure|        1995|\n",
      "|       8|        Tom and Huck|Children's|        1995|\n",
      "|       9|        Sudden Death|    Action|        1995|\n",
      "|      10|           GoldenEye|    Action|        1995|\n",
      "+--------+--------------------+----------+------------+\n",
      "only showing top 20 rows\n",
      "\n"
     ]
    }
   ],
   "source": [
    "movies_data.show()"
   ]
  },
  {
   "cell_type": "code",
   "execution_count": 16,
   "id": "77789364",
   "metadata": {},
   "outputs": [
    {
     "data": {
      "text/plain": [
       "DataFrame[movie_id: int, title: string, genres: string, release_year: string]"
      ]
     },
     "execution_count": 16,
     "metadata": {},
     "output_type": "execute_result"
    }
   ],
   "source": [
    "movies_data"
   ]
  },
  {
   "cell_type": "code",
   "execution_count": 17,
   "id": "5ff96758",
   "metadata": {},
   "outputs": [
    {
     "name": "stdout",
     "output_type": "stream",
     "text": [
      "root\n",
      " |-- movie_id: integer (nullable = true)\n",
      " |-- title: string (nullable = true)\n",
      " |-- genres: string (nullable = false)\n",
      " |-- release_year: string (nullable = true)\n",
      "\n"
     ]
    }
   ],
   "source": [
    "movies_data.printSchema()"
   ]
  },
  {
   "cell_type": "code",
   "execution_count": 18,
   "id": "180174dd",
   "metadata": {},
   "outputs": [
    {
     "data": {
      "text/plain": [
       "6408"
      ]
     },
     "execution_count": 18,
     "metadata": {},
     "output_type": "execute_result"
    }
   ],
   "source": [
    "movies_data.count()"
   ]
  },
  {
   "cell_type": "code",
   "execution_count": 19,
   "id": "11e9e64a",
   "metadata": {},
   "outputs": [
    {
     "name": "stdout",
     "output_type": "stream",
     "text": [
      "root\n",
      " |-- UserID: integer (nullable = true)\n",
      " |-- Gender: string (nullable = true)\n",
      " |-- Age: integer (nullable = true)\n",
      " |-- Occupation: integer (nullable = true)\n",
      " |-- ZipCode: integer (nullable = true)\n",
      "\n"
     ]
    }
   ],
   "source": [
    "users_data.printSchema()"
   ]
  },
  {
   "cell_type": "code",
   "execution_count": 20,
   "id": "72d42e52",
   "metadata": {},
   "outputs": [
    {
     "data": {
      "text/plain": [
       "DataFrame[UserID: int, Gender: string, Age: int, Occupation: int, ZipCode: int]"
      ]
     },
     "execution_count": 20,
     "metadata": {},
     "output_type": "execute_result"
    }
   ],
   "source": [
    "users_data"
   ]
  },
  {
   "cell_type": "code",
   "execution_count": 21,
   "id": "eab0ee80",
   "metadata": {},
   "outputs": [
    {
     "name": "stdout",
     "output_type": "stream",
     "text": [
      "+------+------+---+----------+-------+\n",
      "|UserID|Gender|Age|Occupation|ZipCode|\n",
      "+------+------+---+----------+-------+\n",
      "|     1|     F|  1|        10|  48067|\n",
      "|     2|     M| 56|        16|  70072|\n",
      "|     3|     M| 25|        15|  55117|\n",
      "|     4|     M| 45|         7|   2460|\n",
      "|     5|     M| 25|        20|  55455|\n",
      "|     6|     F| 50|         9|  55117|\n",
      "|     7|     M| 35|         1|   6810|\n",
      "|     8|     M| 25|        12|  11413|\n",
      "|     9|     M| 25|        17|  61614|\n",
      "|    10|     F| 35|         1|  95370|\n",
      "|    11|     F| 25|         1|   4093|\n",
      "|    12|     M| 25|        12|  32793|\n",
      "|    13|     M| 45|         1|  93304|\n",
      "|    14|     M| 35|         0|  60126|\n",
      "|    15|     M| 25|         7|  22903|\n",
      "|    16|     F| 35|         0|  20670|\n",
      "|    17|     M| 50|         1|  95350|\n",
      "|    18|     F| 18|         3|  95825|\n",
      "|    19|     M|  1|        10|  48073|\n",
      "|    20|     M| 25|        14|  55113|\n",
      "+------+------+---+----------+-------+\n",
      "only showing top 20 rows\n",
      "\n"
     ]
    }
   ],
   "source": [
    "users_data.show()"
   ]
  },
  {
   "cell_type": "code",
   "execution_count": 22,
   "id": "e66bd063",
   "metadata": {},
   "outputs": [
    {
     "name": "stdout",
     "output_type": "stream",
     "text": [
      "+------+-------+------+---------+\n",
      "|UserID|MovieID|Rating|Timestamp|\n",
      "+------+-------+------+---------+\n",
      "|     1|   1193|     5|978300760|\n",
      "|     1|    661|     3|978302109|\n",
      "|     1|    914|     3|978301968|\n",
      "|     1|   3408|     4|978300275|\n",
      "|     1|   2355|     5|978824291|\n",
      "|     1|   1197|     3|978302268|\n",
      "|     1|   1287|     5|978302039|\n",
      "|     1|   2804|     5|978300719|\n",
      "|     1|    594|     4|978302268|\n",
      "|     1|    919|     4|978301368|\n",
      "|     1|    595|     5|978824268|\n",
      "|     1|    938|     4|978301752|\n",
      "|     1|   2398|     4|978302281|\n",
      "|     1|   2918|     4|978302124|\n",
      "|     1|   1035|     5|978301753|\n",
      "|     1|   2791|     4|978302188|\n",
      "|     1|   2687|     3|978824268|\n",
      "|     1|   2018|     4|978301777|\n",
      "|     1|   3105|     5|978301713|\n",
      "|     1|   2797|     4|978302039|\n",
      "+------+-------+------+---------+\n",
      "only showing top 20 rows\n",
      "\n"
     ]
    }
   ],
   "source": [
    "ratings_data.show()"
   ]
  },
  {
   "cell_type": "code",
   "execution_count": 23,
   "id": "d7ae2447",
   "metadata": {},
   "outputs": [
    {
     "name": "stdout",
     "output_type": "stream",
     "text": [
      "root\n",
      " |-- UserID: integer (nullable = true)\n",
      " |-- MovieID: integer (nullable = true)\n",
      " |-- Rating: integer (nullable = true)\n",
      " |-- Timestamp: long (nullable = true)\n",
      "\n"
     ]
    }
   ],
   "source": [
    "ratings_data.printSchema()"
   ]
  },
  {
   "cell_type": "code",
   "execution_count": 24,
   "id": "00ab59e6",
   "metadata": {},
   "outputs": [],
   "source": [
    "movies_data.createOrReplaceTempView(\"movies\")\n",
    "users_data.createOrReplaceTempView(\"users\")\n",
    "ratings_data.createOrReplaceTempView(\"ratings\")\n"
   ]
  },
  {
   "cell_type": "code",
   "execution_count": 25,
   "id": "e51ff93a",
   "metadata": {},
   "outputs": [
    {
     "name": "stdout",
     "output_type": "stream",
     "text": [
      "+------+------+---+----------+-------+\n",
      "|UserID|Gender|Age|Occupation|ZipCode|\n",
      "+------+------+---+----------+-------+\n",
      "|     1|     F|  1|        10|  48067|\n",
      "|     2|     M| 56|        16|  70072|\n",
      "|     3|     M| 25|        15|  55117|\n",
      "|     4|     M| 45|         7|   2460|\n",
      "|     5|     M| 25|        20|  55455|\n",
      "|     6|     F| 50|         9|  55117|\n",
      "|     7|     M| 35|         1|   6810|\n",
      "|     8|     M| 25|        12|  11413|\n",
      "|     9|     M| 25|        17|  61614|\n",
      "|    10|     F| 35|         1|  95370|\n",
      "|    11|     F| 25|         1|   4093|\n",
      "|    12|     M| 25|        12|  32793|\n",
      "|    13|     M| 45|         1|  93304|\n",
      "|    14|     M| 35|         0|  60126|\n",
      "|    15|     M| 25|         7|  22903|\n",
      "|    16|     F| 35|         0|  20670|\n",
      "|    17|     M| 50|         1|  95350|\n",
      "|    18|     F| 18|         3|  95825|\n",
      "|    19|     M|  1|        10|  48073|\n",
      "|    20|     M| 25|        14|  55113|\n",
      "+------+------+---+----------+-------+\n",
      "only showing top 20 rows\n",
      "\n"
     ]
    }
   ],
   "source": [
    "spark.sql(\"select * from users\").show()"
   ]
  },
  {
   "cell_type": "code",
   "execution_count": null,
   "id": "59dc31a6",
   "metadata": {},
   "outputs": [],
   "source": []
  }
 ],
 "metadata": {
  "kernelspec": {
   "display_name": "Python 3 (ipykernel)",
   "language": "python",
   "name": "python3"
  },
  "language_info": {
   "codemirror_mode": {
    "name": "ipython",
    "version": 3
   },
   "file_extension": ".py",
   "mimetype": "text/x-python",
   "name": "python",
   "nbconvert_exporter": "python",
   "pygments_lexer": "ipython3",
   "version": "3.9.18"
  }
 },
 "nbformat": 4,
 "nbformat_minor": 5
}
