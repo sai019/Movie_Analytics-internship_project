{
 "cells": [
  {
   "cell_type": "code",
   "execution_count": 0,
   "metadata": {
    "application/vnd.databricks.v1+cell": {
     "cellMetadata": {
      "byteLimit": 2048000,
      "rowLimit": 10000
     },
     "inputWidgets": {},
     "nuid": "4c44d7b6-3642-4728-aa69-d4a06fd4b93a",
     "showTitle": false,
     "title": ""
    }
   },
   "outputs": [],
   "source": [
    "from pyspark.sql import functions as F\n",
    "from pyspark.sql.functions import col, regexp_extract, regexp_replace, explode, split\n",
    "from pyspark.sql.window import Window"
   ]
  },
  {
   "cell_type": "code",
   "execution_count": 0,
   "metadata": {
    "application/vnd.databricks.v1+cell": {
     "cellMetadata": {
      "byteLimit": 2048000,
      "rowLimit": 10000
     },
     "inputWidgets": {},
     "nuid": "3f0534b9-05a5-4d03-bb63-916253d16cc0",
     "showTitle": false,
     "title": ""
    }
   },
   "outputs": [
    {
     "output_type": "execute_result",
     "data": {
      "text/plain": [
       "[FileInfo(path='dbfs:/mnt/movie-analytics/Raw_data/', name='Raw_data/', size=0, modificationTime=0),\n",
       " FileInfo(path='dbfs:/mnt/movie-analytics/Transformed_data/', name='Transformed_data/', size=0, modificationTime=0)]"
      ]
     },
     "execution_count": 45,
     "metadata": {},
     "output_type": "execute_result"
    }
   ],
   "source": [
    "dbutils.fs.ls('/mnt/movie-analytics')"
   ]
  },
  {
   "cell_type": "code",
   "execution_count": 0,
   "metadata": {
    "application/vnd.databricks.v1+cell": {
     "cellMetadata": {
      "byteLimit": 2048000,
      "rowLimit": 10000
     },
     "inputWidgets": {},
     "nuid": "43798004-617c-4f33-8851-388668d11b50",
     "showTitle": false,
     "title": ""
    }
   },
   "outputs": [
    {
     "output_type": "execute_result",
     "data": {
      "text/plain": [
       "[FileInfo(path='dbfs:/mnt/movie-analytics/Raw_data/movies.dat', name='movies.dat', size=171308, modificationTime=1712230181000),\n",
       " FileInfo(path='dbfs:/mnt/movie-analytics/Raw_data/ratings.dat', name='ratings.dat', size=24594131, modificationTime=1712230187000),\n",
       " FileInfo(path='dbfs:/mnt/movie-analytics/Raw_data/users.dat', name='users.dat', size=134368, modificationTime=1712230187000)]"
      ]
     },
     "execution_count": 46,
     "metadata": {},
     "output_type": "execute_result"
    }
   ],
   "source": [
    "input_path = '/mnt/movie-analytics/Raw_data'\n",
    "dbutils.fs.ls(input_path)"
   ]
  },
  {
   "cell_type": "code",
   "execution_count": 0,
   "metadata": {
    "application/vnd.databricks.v1+cell": {
     "cellMetadata": {
      "byteLimit": 2048000,
      "rowLimit": 10000
     },
     "inputWidgets": {},
     "nuid": "e24673cc-8e71-4fe0-a7d0-ca985f37a137",
     "showTitle": false,
     "title": ""
    }
   },
   "outputs": [
    {
     "output_type": "stream",
     "name": "stdout",
     "output_type": "stream",
     "text": [
      "['movies.dat', 'ratings.dat', 'users.dat']\n"
     ]
    }
   ],
   "source": [
    "table_names = []\n",
    "\n",
    "for i in dbutils.fs.ls(input_path):\n",
    "    table_names.append(i.name.split('/')[0])\n",
    "\n",
    "print(table_names)"
   ]
  },
  {
   "cell_type": "markdown",
   "metadata": {
    "application/vnd.databricks.v1+cell": {
     "cellMetadata": {
      "byteLimit": 2048000,
      "rowLimit": 10000
     },
     "inputWidgets": {},
     "nuid": "a1c565f8-aaba-4a43-9602-55cd51313ae6",
     "showTitle": false,
     "title": ""
    }
   },
   "source": [
    "### Spark Data Frames\n",
    "1. Prepare Movies data: Extracting the Year and Genre from the Text\n",
    "2. Prepare Users data: Loading a double delimited csv file\n",
    "3. Prepare Ratings data: Programmatically specifying a schema for the data frame\n",
    "4. Import Data from URL: Python\n"
   ]
  },
  {
   "cell_type": "code",
   "execution_count": 0,
   "metadata": {
    "application/vnd.databricks.v1+cell": {
     "cellMetadata": {
      "byteLimit": 2048000,
      "rowLimit": 10000
     },
     "inputWidgets": {},
     "nuid": "43f5c57d-1738-44dc-90cf-2fa16a9ec3fa",
     "showTitle": false,
     "title": ""
    }
   },
   "outputs": [],
   "source": [
    "# Movies data path and schema\n",
    "movies_file_path = f\"{input_path}/movies.dat\"\n",
    "movies_schema = \"movie_id INT, title STRING, genres STRING\"\n",
    "\n",
    "# Users data path and schema\n",
    "users_file_path = f\"{input_path}/users.dat\"\n",
    "users_schema = \"UserID INT, Gender STRING, Age INT, Occupation INT, ZipCode INT\"\n",
    "\n",
    "# Ratings data path and schema\n",
    "ratings_schema = \"UserID INT, MovieID INT, Rating INT, Timestamp INT\"\n",
    "ratings_file_path = f\"{input_path}/ratings.dat\"\n",
    "\n",
    "# Reading the data from the movies.dat file\n",
    "movies_data = spark.read.csv(movies_file_path, sep=\"::\", schema=movies_schema)\n",
    "\n",
    "# Reading the data from the users.dat file\n",
    "users_data = spark.read.csv(users_file_path, sep=\"::\", schema=users_schema)\n",
    "\n",
    "# Reading the data from the ratings.dat files\n",
    "ratings_data = spark.read.csv(ratings_file_path, sep = \"::\", schema=ratings_schema)"
   ]
  },
  {
   "cell_type": "markdown",
   "metadata": {
    "application/vnd.databricks.v1+cell": {
     "cellMetadata": {
      "byteLimit": 2048000,
      "rowLimit": 10000
     },
     "inputWidgets": {},
     "nuid": "ca596358-4eef-40f4-95fe-0a8c8a815c96",
     "showTitle": false,
     "title": ""
    }
   },
   "source": [
    "## Movies data Transformation"
   ]
  },
  {
   "cell_type": "code",
   "execution_count": 0,
   "metadata": {
    "application/vnd.databricks.v1+cell": {
     "cellMetadata": {
      "byteLimit": 2048000,
      "rowLimit": 10000
     },
     "inputWidgets": {},
     "nuid": "ed2f0e64-8966-4f3e-a76f-ebb7917d25dd",
     "showTitle": false,
     "title": ""
    },
    "scrolled": true
   },
   "outputs": [
    {
     "output_type": "stream",
     "name": "stdout",
     "output_type": "stream",
     "text": [
      "+--------+--------------------+--------------------+\n|movie_id|               title|              genres|\n+--------+--------------------+--------------------+\n|       1|    Toy Story (1995)|Animation|Childre...|\n|       2|      Jumanji (1995)|Adventure|Childre...|\n|       3|Grumpier Old Men ...|      Comedy|Romance|\n|       4|Waiting to Exhale...|        Comedy|Drama|\n|       5|Father of the Bri...|              Comedy|\n|       6|         Heat (1995)|Action|Crime|Thri...|\n|       7|      Sabrina (1995)|      Comedy|Romance|\n|       8| Tom and Huck (1995)|Adventure|Children's|\n|       9| Sudden Death (1995)|              Action|\n|      10|    GoldenEye (1995)|Action|Adventure|...|\n|      11|American Presiden...|Comedy|Drama|Romance|\n|      12|Dracula: Dead and...|       Comedy|Horror|\n|      13|        Balto (1995)|Animation|Children's|\n|      14|        Nixon (1995)|               Drama|\n|      15|Cutthroat Island ...|Action|Adventure|...|\n|      16|       Casino (1995)|      Drama|Thriller|\n|      17|Sense and Sensibi...|       Drama|Romance|\n|      18|   Four Rooms (1995)|            Thriller|\n|      19|Ace Ventura: When...|              Comedy|\n|      20|  Money Train (1995)|              Action|\n+--------+--------------------+--------------------+\nonly showing top 20 rows\n\n"
     ]
    }
   ],
   "source": [
    "movies_data.show()"
   ]
  },
  {
   "cell_type": "code",
   "execution_count": 0,
   "metadata": {
    "application/vnd.databricks.v1+cell": {
     "cellMetadata": {
      "byteLimit": 2048000,
      "rowLimit": 10000
     },
     "inputWidgets": {},
     "nuid": "a5595388-1719-4e24-805a-34a95ba20cea",
     "showTitle": false,
     "title": ""
    }
   },
   "outputs": [
    {
     "output_type": "stream",
     "name": "stdout",
     "output_type": "stream",
     "text": [
      "root\n |-- movie_id: integer (nullable = true)\n |-- title: string (nullable = true)\n |-- genres: string (nullable = true)\n\n"
     ]
    }
   ],
   "source": [
    "movies_data.printSchema()"
   ]
  },
  {
   "cell_type": "code",
   "execution_count": 0,
   "metadata": {
    "application/vnd.databricks.v1+cell": {
     "cellMetadata": {
      "byteLimit": 2048000,
      "rowLimit": 10000
     },
     "inputWidgets": {},
     "nuid": "c56babce-4c70-488c-b1e0-ace239cea146",
     "showTitle": false,
     "title": ""
    }
   },
   "outputs": [],
   "source": [
    "# Extract the year from the title and create a new column 'year'\n",
    "movies_data = movies_data.withColumn(\"release_year\", regexp_extract(\"title\", r\"\\((\\d{4})\\)\", 1))\n",
    "# Remove the (year) from the title\n",
    "movies_data = movies_data.withColumn(\"title\", regexp_replace(\"title\", \"\\s*\\(\\d{4}\\)\\s*\", \"\"))\n",
    "# Extract and explode genres into separate rows\n",
    "movies_data = movies_data.withColumn(\"genres\", explode(split(\"genres\", \"\\\\|\")))\n",
    "# Rename the column names\n",
    "movies_data = movies_data.withColumnRenamed(\"movie_id\" , \"Movie_id\").withColumnRenamed(\"release_year\" , \"Release_year\")\\\n",
    "    .withColumnRenamed(\"title\" , \"Title\").withColumnRenamed(\"genres\" , \"Genres\")\n",
    "# Adjusting the data types of the columns\n",
    "movies_data = movies_data.withColumn(\"Release_year\", col('Release_year').cast('integer'))    "
   ]
  },
  {
   "cell_type": "code",
   "execution_count": 0,
   "metadata": {
    "application/vnd.databricks.v1+cell": {
     "cellMetadata": {
      "byteLimit": 2048000,
      "rowLimit": 10000
     },
     "inputWidgets": {},
     "nuid": "e8cb4ecb-0275-4bb1-993b-db087483e900",
     "showTitle": false,
     "title": ""
    }
   },
   "outputs": [
    {
     "output_type": "stream",
     "name": "stdout",
     "output_type": "stream",
     "text": [
      "root\n |-- Movie_id: integer (nullable = true)\n |-- Title: string (nullable = true)\n |-- Genres: string (nullable = false)\n |-- Release_year: integer (nullable = true)\n\n"
     ]
    }
   ],
   "source": [
    "movies_data.printSchema()"
   ]
  },
  {
   "cell_type": "code",
   "execution_count": 0,
   "metadata": {
    "application/vnd.databricks.v1+cell": {
     "cellMetadata": {
      "byteLimit": 2048000,
      "rowLimit": 10000
     },
     "inputWidgets": {},
     "nuid": "f1ba29e6-5eb0-4a55-86c1-6db9e1672baf",
     "showTitle": false,
     "title": ""
    }
   },
   "outputs": [
    {
     "output_type": "stream",
     "name": "stdout",
     "output_type": "stream",
     "text": [
      "+--------+--------------------+----------+------------+\n|Movie_id|               Title|    Genres|Release_year|\n+--------+--------------------+----------+------------+\n|       1|           Toy Story| Animation|        1995|\n|       1|           Toy Story|Children's|        1995|\n|       1|           Toy Story|    Comedy|        1995|\n|       2|             Jumanji| Adventure|        1995|\n|       2|             Jumanji|Children's|        1995|\n|       2|             Jumanji|   Fantasy|        1995|\n|       3|    Grumpier Old Men|    Comedy|        1995|\n|       3|    Grumpier Old Men|   Romance|        1995|\n|       4|   Waiting to Exhale|    Comedy|        1995|\n|       4|   Waiting to Exhale|     Drama|        1995|\n|       5|Father of the Bri...|    Comedy|        1995|\n|       6|                Heat|    Action|        1995|\n|       6|                Heat|     Crime|        1995|\n|       6|                Heat|  Thriller|        1995|\n|       7|             Sabrina|    Comedy|        1995|\n|       7|             Sabrina|   Romance|        1995|\n|       8|        Tom and Huck| Adventure|        1995|\n|       8|        Tom and Huck|Children's|        1995|\n|       9|        Sudden Death|    Action|        1995|\n|      10|           GoldenEye|    Action|        1995|\n+--------+--------------------+----------+------------+\nonly showing top 20 rows\n\n"
     ]
    }
   ],
   "source": [
    "movies_data.show()"
   ]
  },
  {
   "cell_type": "code",
   "execution_count": 0,
   "metadata": {
    "application/vnd.databricks.v1+cell": {
     "cellMetadata": {
      "byteLimit": 2048000,
      "rowLimit": 10000
     },
     "inputWidgets": {},
     "nuid": "a6a1a2d0-8f94-4ec8-ab6c-321816921931",
     "showTitle": false,
     "title": ""
    }
   },
   "outputs": [
    {
     "output_type": "stream",
     "name": "stdout",
     "output_type": "stream",
     "text": [
      "root\n |-- Movie_id: integer (nullable = true)\n |-- Title: string (nullable = true)\n |-- Genres: string (nullable = false)\n |-- Release_year: integer (nullable = true)\n\n"
     ]
    }
   ],
   "source": [
    "movies_data.printSchema()"
   ]
  },
  {
   "cell_type": "code",
   "execution_count": 0,
   "metadata": {
    "application/vnd.databricks.v1+cell": {
     "cellMetadata": {
      "byteLimit": 2048000,
      "rowLimit": 10000
     },
     "inputWidgets": {},
     "nuid": "8f34e8b2-90ff-42ae-b067-d9957e2aa785",
     "showTitle": false,
     "title": ""
    }
   },
   "outputs": [
    {
     "output_type": "stream",
     "name": "stdout",
     "output_type": "stream",
     "text": [
      "Movie count: 6408\nDistinct movie count: 6408\nDifference between original and distinct: 0\n"
     ]
    }
   ],
   "source": [
    "from pyspark.sql.functions import count\n",
    "\n",
    "movie_count = movies_data.count()\n",
    "print(\"Movie count:\" ,movie_count)\n",
    "count_dis = movies_data.distinct().count()\n",
    "print(\"Distinct movie count:\" ,count_dis)\n",
    "duplicate_count = movie_count - count_dis\n",
    "print(\"Difference between original and distinct:\" ,duplicate_count)"
   ]
  },
  {
   "cell_type": "markdown",
   "metadata": {
    "application/vnd.databricks.v1+cell": {
     "cellMetadata": {
      "byteLimit": 2048000,
      "rowLimit": 10000
     },
     "inputWidgets": {},
     "nuid": "0c04f5f2-1859-4b1d-8e72-7268d5529f97",
     "showTitle": false,
     "title": ""
    }
   },
   "source": [
    "## Users data Tranformation"
   ]
  },
  {
   "cell_type": "code",
   "execution_count": 0,
   "metadata": {
    "application/vnd.databricks.v1+cell": {
     "cellMetadata": {
      "byteLimit": 2048000,
      "rowLimit": 10000
     },
     "inputWidgets": {},
     "nuid": "730152df-c353-4cb0-b4cc-18fd2011372c",
     "showTitle": false,
     "title": ""
    }
   },
   "outputs": [
    {
     "output_type": "stream",
     "name": "stdout",
     "output_type": "stream",
     "text": [
      "root\n |-- UserID: integer (nullable = true)\n |-- Gender: string (nullable = true)\n |-- Age: integer (nullable = true)\n |-- Occupation: integer (nullable = true)\n |-- ZipCode: integer (nullable = true)\n\n"
     ]
    }
   ],
   "source": [
    "users_data.printSchema()"
   ]
  },
  {
   "cell_type": "code",
   "execution_count": 0,
   "metadata": {
    "application/vnd.databricks.v1+cell": {
     "cellMetadata": {
      "byteLimit": 2048000,
      "rowLimit": 10000
     },
     "inputWidgets": {},
     "nuid": "8142041b-1e4a-4257-9271-92f328d909bf",
     "showTitle": false,
     "title": ""
    }
   },
   "outputs": [],
   "source": [
    "users_data = users_data.withColumnRenamed(\"UserID\" , \"User_id\").withColumnRenamed(\"ZipCode\" , \"Zip_code\")"
   ]
  },
  {
   "cell_type": "code",
   "execution_count": 0,
   "metadata": {
    "application/vnd.databricks.v1+cell": {
     "cellMetadata": {
      "byteLimit": 2048000,
      "rowLimit": 10000
     },
     "inputWidgets": {},
     "nuid": "85356b75-8c72-4c70-8ed3-17ebd37ca65f",
     "showTitle": false,
     "title": ""
    }
   },
   "outputs": [
    {
     "output_type": "stream",
     "name": "stdout",
     "output_type": "stream",
     "text": [
      "root\n |-- User_id: integer (nullable = true)\n |-- Gender: string (nullable = true)\n |-- Age: integer (nullable = true)\n |-- Occupation: integer (nullable = true)\n |-- Zip_code: integer (nullable = true)\n\n"
     ]
    }
   ],
   "source": [
    "users_data.printSchema()"
   ]
  },
  {
   "cell_type": "code",
   "execution_count": 0,
   "metadata": {
    "application/vnd.databricks.v1+cell": {
     "cellMetadata": {
      "byteLimit": 2048000,
      "rowLimit": 10000
     },
     "inputWidgets": {},
     "nuid": "24e36391-844a-4daa-8640-2a3096f26b7e",
     "showTitle": false,
     "title": ""
    }
   },
   "outputs": [
    {
     "output_type": "stream",
     "name": "stdout",
     "output_type": "stream",
     "text": [
      "Users count: 6040\nDistinct users count: 6040\nDifference between original and distinct: 0\n"
     ]
    }
   ],
   "source": [
    "users_count = users_data.count()\n",
    "print(\"Users count:\" ,users_count)\n",
    "users_dist_count = users_data.distinct().count()\n",
    "print(\"Distinct users count:\" ,users_dist_count)\n",
    "dist = users_count - users_dist_count\n",
    "print(\"Difference between original and distinct:\" ,dist)"
   ]
  },
  {
   "cell_type": "code",
   "execution_count": 0,
   "metadata": {
    "application/vnd.databricks.v1+cell": {
     "cellMetadata": {
      "byteLimit": 2048000,
      "rowLimit": 10000
     },
     "inputWidgets": {},
     "nuid": "b76d2cc4-8283-4d97-8ded-8322561574bb",
     "showTitle": false,
     "title": ""
    }
   },
   "outputs": [
    {
     "output_type": "stream",
     "name": "stdout",
     "output_type": "stream",
     "text": [
      "+-------+------+---+----------+--------+\n|User_id|Gender|Age|Occupation|Zip_code|\n+-------+------+---+----------+--------+\n|      1|     F|  1|        10|   48067|\n|      2|     M| 56|        16|   70072|\n|      3|     M| 25|        15|   55117|\n|      4|     M| 45|         7|    2460|\n|      5|     M| 25|        20|   55455|\n|      6|     F| 50|         9|   55117|\n|      7|     M| 35|         1|    6810|\n|      8|     M| 25|        12|   11413|\n|      9|     M| 25|        17|   61614|\n|     10|     F| 35|         1|   95370|\n|     11|     F| 25|         1|    4093|\n|     12|     M| 25|        12|   32793|\n|     13|     M| 45|         1|   93304|\n|     14|     M| 35|         0|   60126|\n|     15|     M| 25|         7|   22903|\n|     16|     F| 35|         0|   20670|\n|     17|     M| 50|         1|   95350|\n|     18|     F| 18|         3|   95825|\n|     19|     M|  1|        10|   48073|\n|     20|     M| 25|        14|   55113|\n+-------+------+---+----------+--------+\nonly showing top 20 rows\n\n"
     ]
    }
   ],
   "source": [
    "users_data.show()"
   ]
  },
  {
   "cell_type": "markdown",
   "metadata": {
    "application/vnd.databricks.v1+cell": {
     "cellMetadata": {
      "byteLimit": 2048000,
      "rowLimit": 10000
     },
     "inputWidgets": {},
     "nuid": "6914ae79-3570-4fd1-a210-eb78a63ad504",
     "showTitle": false,
     "title": ""
    }
   },
   "source": [
    "## Ratings data Transformation"
   ]
  },
  {
   "cell_type": "code",
   "execution_count": 0,
   "metadata": {
    "application/vnd.databricks.v1+cell": {
     "cellMetadata": {
      "byteLimit": 2048000,
      "rowLimit": 10000
     },
     "inputWidgets": {},
     "nuid": "307a942d-df08-4f94-a13a-8525e884cefe",
     "showTitle": false,
     "title": ""
    }
   },
   "outputs": [
    {
     "output_type": "stream",
     "name": "stdout",
     "output_type": "stream",
     "text": [
      "+------+-------+------+---------+\n|UserID|MovieID|Rating|Timestamp|\n+------+-------+------+---------+\n|     1|   1193|     5|978300760|\n|     1|    661|     3|978302109|\n|     1|    914|     3|978301968|\n|     1|   3408|     4|978300275|\n|     1|   2355|     5|978824291|\n|     1|   1197|     3|978302268|\n|     1|   1287|     5|978302039|\n|     1|   2804|     5|978300719|\n|     1|    594|     4|978302268|\n|     1|    919|     4|978301368|\n|     1|    595|     5|978824268|\n|     1|    938|     4|978301752|\n|     1|   2398|     4|978302281|\n|     1|   2918|     4|978302124|\n|     1|   1035|     5|978301753|\n|     1|   2791|     4|978302188|\n|     1|   2687|     3|978824268|\n|     1|   2018|     4|978301777|\n|     1|   3105|     5|978301713|\n|     1|   2797|     4|978302039|\n+------+-------+------+---------+\nonly showing top 20 rows\n\n"
     ]
    }
   ],
   "source": [
    "ratings_data.show()"
   ]
  },
  {
   "cell_type": "code",
   "execution_count": 0,
   "metadata": {
    "application/vnd.databricks.v1+cell": {
     "cellMetadata": {
      "byteLimit": 2048000,
      "rowLimit": 10000
     },
     "inputWidgets": {},
     "nuid": "7dcd4bef-37f4-4157-88d3-9d645808b211",
     "showTitle": false,
     "title": ""
    }
   },
   "outputs": [
    {
     "output_type": "stream",
     "name": "stdout",
     "output_type": "stream",
     "text": [
      "root\n |-- UserID: integer (nullable = true)\n |-- MovieID: integer (nullable = true)\n |-- Rating: integer (nullable = true)\n |-- Timestamp: integer (nullable = true)\n\n"
     ]
    }
   ],
   "source": [
    "ratings_data.printSchema()"
   ]
  },
  {
   "cell_type": "code",
   "execution_count": 0,
   "metadata": {
    "application/vnd.databricks.v1+cell": {
     "cellMetadata": {
      "byteLimit": 2048000,
      "rowLimit": 10000
     },
     "inputWidgets": {},
     "nuid": "998e7779-9a02-4c71-a1c4-e2d9ec9a00aa",
     "showTitle": false,
     "title": ""
    }
   },
   "outputs": [],
   "source": [
    "from pyspark.sql.types import TimestampType\n",
    "# Adjusting the data types of columns\n",
    "ratings_data = ratings_data.withColumn(\"Timestamp\", col(\"Timestamp\").cast(TimestampType()))\n",
    "# Rename the column names\n",
    "ratings_data = ratings_data.withColumnRenamed(\"UserID\" , \"User_id\").withColumnRenamed(\"MovieID\" , \"Movie_id\")"
   ]
  },
  {
   "cell_type": "code",
   "execution_count": 0,
   "metadata": {
    "application/vnd.databricks.v1+cell": {
     "cellMetadata": {
      "byteLimit": 2048000,
      "rowLimit": 10000
     },
     "inputWidgets": {},
     "nuid": "2adf45d0-d24f-4732-bdc2-c69edcc2da3e",
     "showTitle": false,
     "title": ""
    }
   },
   "outputs": [
    {
     "output_type": "stream",
     "name": "stdout",
     "output_type": "stream",
     "text": [
      "root\n |-- User_id: integer (nullable = true)\n |-- Movie_id: integer (nullable = true)\n |-- Rating: integer (nullable = true)\n |-- Timestamp: timestamp (nullable = true)\n\n"
     ]
    }
   ],
   "source": [
    "ratings_data.printSchema()"
   ]
  },
  {
   "cell_type": "code",
   "execution_count": 0,
   "metadata": {
    "application/vnd.databricks.v1+cell": {
     "cellMetadata": {
      "byteLimit": 2048000,
      "rowLimit": 10000
     },
     "inputWidgets": {},
     "nuid": "4d157fdc-a29e-42fa-949c-430b9b06d819",
     "showTitle": false,
     "title": ""
    }
   },
   "outputs": [
    {
     "output_type": "stream",
     "name": "stdout",
     "output_type": "stream",
     "text": [
      "+-------+--------+------+-------------------+\n|User_id|Movie_id|Rating|          Timestamp|\n+-------+--------+------+-------------------+\n|      1|    1193|     5|2000-12-31 22:12:40|\n|      1|     661|     3|2000-12-31 22:35:09|\n|      1|     914|     3|2000-12-31 22:32:48|\n|      1|    3408|     4|2000-12-31 22:04:35|\n|      1|    2355|     5|2001-01-06 23:38:11|\n|      1|    1197|     3|2000-12-31 22:37:48|\n|      1|    1287|     5|2000-12-31 22:33:59|\n|      1|    2804|     5|2000-12-31 22:11:59|\n|      1|     594|     4|2000-12-31 22:37:48|\n|      1|     919|     4|2000-12-31 22:22:48|\n|      1|     595|     5|2001-01-06 23:37:48|\n|      1|     938|     4|2000-12-31 22:29:12|\n|      1|    2398|     4|2000-12-31 22:38:01|\n|      1|    2918|     4|2000-12-31 22:35:24|\n|      1|    1035|     5|2000-12-31 22:29:13|\n|      1|    2791|     4|2000-12-31 22:36:28|\n|      1|    2687|     3|2001-01-06 23:37:48|\n|      1|    2018|     4|2000-12-31 22:29:37|\n|      1|    3105|     5|2000-12-31 22:28:33|\n|      1|    2797|     4|2000-12-31 22:33:59|\n+-------+--------+------+-------------------+\nonly showing top 20 rows\n\n"
     ]
    }
   ],
   "source": [
    "ratings_data.show()"
   ]
  },
  {
   "cell_type": "code",
   "execution_count": 0,
   "metadata": {
    "application/vnd.databricks.v1+cell": {
     "cellMetadata": {
      "byteLimit": 2048000,
      "rowLimit": 10000
     },
     "inputWidgets": {},
     "nuid": "c79ef8aa-c154-49cd-8ed7-6464c3cc9d28",
     "showTitle": false,
     "title": ""
    }
   },
   "outputs": [
    {
     "output_type": "stream",
     "name": "stdout",
     "output_type": "stream",
     "text": [
      "Ratings count: 1000209\nDistinct ratings count: 1000209\nDifference between original and distinct: 0\n"
     ]
    }
   ],
   "source": [
    "ratings_count = ratings_data.count()\n",
    "print(\"Ratings count:\" ,ratings_count)\n",
    "ratings_dist_count = ratings_data.distinct().count()\n",
    "print(\"Distinct ratings count:\" ,ratings_dist_count)\n",
    "diff = ratings_count - ratings_dist_count\n",
    "print(\"Difference between original and distinct:\" ,diff)"
   ]
  },
  {
   "cell_type": "code",
   "execution_count": 0,
   "metadata": {
    "application/vnd.databricks.v1+cell": {
     "cellMetadata": {
      "byteLimit": 2048000,
      "rowLimit": 10000
     },
     "inputWidgets": {},
     "nuid": "8b78f688-a402-48c1-a227-6c269911342b",
     "showTitle": false,
     "title": ""
    }
   },
   "outputs": [
    {
     "output_type": "execute_result",
     "data": {
      "text/plain": [
       "0"
      ]
     },
     "execution_count": 67,
     "metadata": {},
     "output_type": "execute_result"
    }
   ],
   "source": [
    "duplicate_rows = ratings_data.groupBy(ratings_data.columns).count().filter(\"count > 1\")\n",
    "duplicate_rows.count()"
   ]
  },
  {
   "cell_type": "markdown",
   "metadata": {
    "application/vnd.databricks.v1+cell": {
     "cellMetadata": {
      "byteLimit": 2048000,
      "rowLimit": 10000
     },
     "inputWidgets": {},
     "nuid": "b633e675-c8ca-484d-9d51-947a18cdbd22",
     "showTitle": false,
     "title": ""
    }
   },
   "source": [
    "### SPARK SQL \n",
    "1. Create tables for movies.dat, users.dat and ratings.dat: Saving Tables from Spark SQL"
   ]
  },
  {
   "cell_type": "code",
   "execution_count": 0,
   "metadata": {
    "application/vnd.databricks.v1+cell": {
     "cellMetadata": {
      "byteLimit": 2048000,
      "rowLimit": 10000
     },
     "inputWidgets": {},
     "nuid": "64bdcc1e-d674-4ccb-99bd-4cb1527bca39",
     "showTitle": false,
     "title": ""
    }
   },
   "outputs": [],
   "source": [
    "movies_data.createOrReplaceTempView(\"movies\")\n",
    "users_data.createOrReplaceTempView(\"users\")\n",
    "ratings_data.createOrReplaceTempView(\"ratings\")"
   ]
  },
  {
   "cell_type": "code",
   "execution_count": 0,
   "metadata": {
    "application/vnd.databricks.v1+cell": {
     "cellMetadata": {
      "byteLimit": 2048000,
      "rowLimit": 10000
     },
     "inputWidgets": {},
     "nuid": "fe34cf5b-b67f-4f27-8194-00aff49c1357",
     "showTitle": false,
     "title": ""
    }
   },
   "outputs": [
    {
     "output_type": "execute_result",
     "data": {
      "text/plain": [
       "DataFrame[num_affected_rows: bigint, num_inserted_rows: bigint]"
      ]
     },
     "execution_count": 69,
     "metadata": {},
     "output_type": "execute_result"
    }
   ],
   "source": [
    "spark.sql(\"CREATE TABLE IF NOT EXISTS movies using DELTA AS SELECT * FROM movies\")\n",
    "spark.sql(\"CREATE TABLE IF NOT EXISTS users using DELTA AS SELECT * FROM users\")\n",
    "spark.sql(\"CREATE TABLE IF NOT EXISTS ratings using DELTA AS SELECT * FROM ratings\")"
   ]
  },
  {
   "cell_type": "code",
   "execution_count": 0,
   "metadata": {
    "application/vnd.databricks.v1+cell": {
     "cellMetadata": {
      "byteLimit": 2048000,
      "rowLimit": 10000
     },
     "inputWidgets": {},
     "nuid": "aaace890-056c-4972-a2db-49a3b8361a53",
     "showTitle": false,
     "title": ""
    }
   },
   "outputs": [
    {
     "output_type": "execute_result",
     "data": {
      "text/plain": [
       "[Table(name='movies', catalog='spark_catalog', namespace=['default'], description=None, tableType='MANAGED', isTemporary=False),\n",
       " Table(name='ratings', catalog='spark_catalog', namespace=['default'], description=None, tableType='MANAGED', isTemporary=False),\n",
       " Table(name='users', catalog='spark_catalog', namespace=['default'], description=None, tableType='MANAGED', isTemporary=False),\n",
       " Table(name='movies', catalog=None, namespace=[], description=None, tableType='TEMPORARY', isTemporary=True),\n",
       " Table(name='ratings', catalog=None, namespace=[], description=None, tableType='TEMPORARY', isTemporary=True),\n",
       " Table(name='users', catalog=None, namespace=[], description=None, tableType='TEMPORARY', isTemporary=True)]"
      ]
     },
     "execution_count": 70,
     "metadata": {},
     "output_type": "execute_result"
    }
   ],
   "source": [
    "spark.catalog.listTables()"
   ]
  },
  {
   "cell_type": "markdown",
   "metadata": {
    "application/vnd.databricks.v1+cell": {
     "cellMetadata": {
      "byteLimit": 2048000,
      "rowLimit": 10000
     },
     "inputWidgets": {},
     "nuid": "0aeb5723-752c-4717-9a35-96e1d9754638",
     "showTitle": false,
     "title": ""
    }
   },
   "source": [
    "### Spark Data Frames\n",
    "5. Save table without defining DDL in Hive"
   ]
  },
  {
   "cell_type": "code",
   "execution_count": 0,
   "metadata": {
    "application/vnd.databricks.v1+cell": {
     "cellMetadata": {
      "byteLimit": 2048000,
      "rowLimit": 10000
     },
     "inputWidgets": {},
     "nuid": "62a9f93a-b3bf-4624-b677-3a144e99ebf3",
     "showTitle": false,
     "title": ""
    }
   },
   "outputs": [],
   "source": [
    "\n",
    "movies_data.write.saveAsTable(\"movies\" , mode=\"overwrite\")\n",
    "users_data.write.saveAsTable(\"users\" , mode=\"overwrite\")\n",
    "ratings_data.write.saveAsTable(\"ratings\" , mode=\"overwrite\")"
   ]
  },
  {
   "cell_type": "markdown",
   "metadata": {
    "application/vnd.databricks.v1+cell": {
     "cellMetadata": {
      "byteLimit": 2048000,
      "rowLimit": 10000
     },
     "inputWidgets": {},
     "nuid": "2583c4fe-4ba1-4a02-b6c0-5a4f18a0669b",
     "showTitle": false,
     "title": ""
    }
   },
   "source": [
    "## Saving the Transformed data to Data lake storage at 'movie-analytics/Transformed_data/"
   ]
  },
  {
   "cell_type": "code",
   "execution_count": 0,
   "metadata": {
    "application/vnd.databricks.v1+cell": {
     "cellMetadata": {
      "byteLimit": 2048000,
      "rowLimit": 10000
     },
     "inputWidgets": {},
     "nuid": "21974125-b4be-4cb1-a534-248ae2e14bcf",
     "showTitle": false,
     "title": ""
    }
   },
   "outputs": [],
   "source": [
    "output_path = '/mnt/movie-analytics/Transformed_data/'\n",
    "# saving data to data lake \n",
    "movies_data.write.format('parquet').mode('overwrite').save(f'{output_path}/movies_data/')\n",
    "users_data.write.format('parquet').mode('overwrite').save(f'{output_path}/users_data/')\n",
    "ratings_data.write.format('parquet').mode('overwrite').save(f'{output_path}/ratings_data/')"
   ]
  }
 ],
 "metadata": {
  "application/vnd.databricks.v1+notebook": {
   "dashboards": [],
   "language": "python",
   "notebookMetadata": {
    "mostRecentlyExecutedCommandWithImplicitDF": {
     "commandId": 524581954165569,
     "dataframes": [
      "_sqldf"
     ]
    },
    "pythonIndentUnit": 4
   },
   "notebookName": "Data_Transformation",
   "widgets": {}
  },
  "kernelspec": {
   "display_name": "Python 3 (ipykernel)",
   "language": "python",
   "name": "python3"
  },
  "language_info": {
   "codemirror_mode": {
    "name": "ipython",
    "version": 3
   },
   "file_extension": ".py",
   "mimetype": "text/x-python",
   "name": "python",
   "nbconvert_exporter": "python",
   "pygments_lexer": "ipython3",
   "version": "3.9.18"
  }
 },
 "nbformat": 4,
 "nbformat_minor": 0
}
